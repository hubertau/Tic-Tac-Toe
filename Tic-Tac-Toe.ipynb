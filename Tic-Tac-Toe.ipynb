{
 "cells": [
  {
   "cell_type": "markdown",
   "metadata": {},
   "source": [
    "# Tic-Tac-Toe: A simple game in Python"
   ]
  },
  {
   "cell_type": "markdown",
   "metadata": {},
   "source": [
    "This is a simple game that will run Tic-Tac-Toe for two players (at the same computer), just using **functions** and not any object-oriented programming. Each player will enter 1-9 to play a move, until the game is over."
   ]
  },
  {
   "cell_type": "markdown",
   "metadata": {},
   "source": [
    "First, define a function to display the state of the game. The function will take a **list** of 9 inputs, and display them from top left to bottom right:"
   ]
  },
  {
   "cell_type": "code",
   "execution_count": 1,
   "metadata": {},
   "outputs": [],
   "source": [
    "def disp_game_state(xo):\n",
    "    \n",
    "    ''' This function will be the one to call when the script wishes to display\n",
    "    the current state of the game.\n",
    "    \n",
    "    Input: a LIST of nine elements, of either nothing (''), an 'O', or an 'X'\n",
    "    Output: the tic-tac-toe board displayed using the nine elements specified\n",
    "    '''\n",
    "    \n",
    "    print ('     |     |     '\n",
    "           '\\n{a[0]:^5}|{a[1]:^5}|{a[2]:^5}'\n",
    "           '\\n     |     |     '\n",
    "           '\\n{pad:->17}'\n",
    "           '\\n     |     |     '\n",
    "           '\\n{a[3]:^5}|{a[4]:^5}|{a[5]:^5}'\n",
    "           '\\n     |     |     '\n",
    "           '\\n{pad:->17}'\n",
    "           '\\n     |     |     '\n",
    "           '\\n{a[6]:^5}|{a[7]:^5}|{a[8]:^5}'\n",
    "           '\\n     |     |     '\n",
    "           .format(pad='-',a=xo))\n",
    "    "
   ]
  },
  {
   "cell_type": "markdown",
   "metadata": {},
   "source": [
    "Test this function using a string with some empty entries and X's and O's:"
   ]
  },
  {
   "cell_type": "code",
   "execution_count": 2,
   "metadata": {},
   "outputs": [
    {
     "name": "stdout",
     "output_type": "stream",
     "text": [
      "     |     |     \n",
      "  O  |  O  |  X  \n",
      "     |     |     \n",
      "-----------------\n",
      "     |     |     \n",
      "  X  |  O  |  X  \n",
      "     |     |     \n",
      "-----------------\n",
      "     |     |     \n",
      "  X  |  X  |  O  \n",
      "     |     |     \n"
     ]
    }
   ],
   "source": [
    "game=['O']*2+['X']*2+['O']+['X']*2+['X','O']\n",
    "disp_game_state(game)"
   ]
  },
  {
   "cell_type": "markdown",
   "metadata": {},
   "source": [
    "Now write the function to call for user input:"
   ]
  },
  {
   "cell_type": "code",
   "execution_count": 3,
   "metadata": {},
   "outputs": [],
   "source": [
    "def move(player,game):\n",
    "    \n",
    "    '''\n",
    "    move() is the function to call when requiring user input.\n",
    "    \n",
    "    Input: the marker that the player is using.\n",
    "    Output: the location, in index+1, of where the player moved.\n",
    "    \n",
    "    '''\n",
    "    player_sym=player\n",
    "    \n",
    "    if player_sym.lower()=='x':\n",
    "        player_no=1\n",
    "    else:\n",
    "        player_no=2\n",
    "        \n",
    "    # check for illegal move. loop until one is obtained.\n",
    "    while True:\n",
    "        # use a try/except pair to ensure input is a number, first of all\n",
    "        try:\n",
    "            print('Please enter an number, from 1 to 9, 1 being the top left,'\n",
    "              'increasing across each row to 9 being the bottom right')\n",
    "            \n",
    "            # ask for input\n",
    "            x=input(f'Player {player_no} ({player_sym.upper()}): Where would you like to play?')\n",
    "            \n",
    "            # if the attempted input is into a cell that isn't empty, return illegal move.\n",
    "            # Otherwise, break out of the while loop, accepting the input.\n",
    "            if game[int(x)-1]!='':\n",
    "                print('Illegal move: square already occupied. Please enter a valid move:')\n",
    "            else:\n",
    "                break\n",
    "                \n",
    "        except:\n",
    "            print('Please enter a number.')\n",
    "        \n",
    "    game[int(x)-1]=player_sym\n",
    "    \n",
    "    return game"
   ]
  },
  {
   "cell_type": "markdown",
   "metadata": {},
   "source": [
    "Test the function:"
   ]
  },
  {
   "cell_type": "code",
   "execution_count": 4,
   "metadata": {},
   "outputs": [
    {
     "name": "stdout",
     "output_type": "stream",
     "text": [
      "Please enter an number, from 1 to 9, 1 being the top left,increasing across each row to 9 being the bottom right\n",
      "Player 1 (X): Where would you like to play?1\n"
     ]
    },
    {
     "data": {
      "text/plain": [
       "['X', '', '', '', '', '', '', '', '']"
      ]
     },
     "execution_count": 4,
     "metadata": {},
     "output_type": "execute_result"
    }
   ],
   "source": [
    "game=['']*9\n",
    "move('X',game)"
   ]
  },
  {
   "cell_type": "markdown",
   "metadata": {},
   "source": [
    "Now create the function to check for the end of the game: either the board is full, or someone has won:"
   ]
  },
  {
   "cell_type": "code",
   "execution_count": 5,
   "metadata": {},
   "outputs": [],
   "source": [
    "def win_check(game):\n",
    "    \n",
    "    '''\n",
    "    win_check checks whether, for a given state of the game, given by the list of 'X's and 'O's,\n",
    "    someone has won, or the game has ended in a draw (by the board being full).\n",
    "    \n",
    "    Input: the list containing nine elements that represent the state of the game.\n",
    "    Output: a number, of 0,1, or 2. 0 = draw, 1 = player 1 (X) has won, 2 = player 2 has won, 3=no win\n",
    "    '''\n",
    "    \n",
    "    # create a dictionary of the conditions that need to be checked.\n",
    "    d={\n",
    "    'row1':game[0:3],    # top row\n",
    "    'row2':game[3:6],    # middle row\n",
    "    'row3':game[6:9],    # bottom row\n",
    "    'col1':game[0:7:3],  # left column\n",
    "    'col2':game[1:8:3],  # middle column\n",
    "    'col3':game[2:9:3],  # right column\n",
    "    'dia1':game[0:9:4],  # diagonal from top left to bottom right\n",
    "    'dia2':game[2:7:2],  # diagonal from bottom left to top right\n",
    "    }\n",
    "    \n",
    "    # Now iterate through that dictionary. If any value matches a win condition, return the required values.\n",
    "    for key, value in d.items():\n",
    "        if set(value)=={'X'}:\n",
    "            return 1\n",
    "        if set(value)=={'O'}:\n",
    "            return 2\n",
    "    else:\n",
    "        if '' in game:\n",
    "            return 3\n",
    "        else:\n",
    "            return 0"
   ]
  },
  {
   "cell_type": "markdown",
   "metadata": {},
   "source": [
    "Checking to see that this does indeed return 'O' winning in the game displayed above:"
   ]
  },
  {
   "cell_type": "code",
   "execution_count": 6,
   "metadata": {},
   "outputs": [
    {
     "name": "stdout",
     "output_type": "stream",
     "text": [
      "     |     |     \n",
      "  O  |  O  |  X  \n",
      "     |     |     \n",
      "-----------------\n",
      "     |     |     \n",
      "  X  |  O  |  X  \n",
      "     |     |     \n",
      "-----------------\n",
      "     |     |     \n",
      "  X  |  X  |  O  \n",
      "     |     |     \n"
     ]
    }
   ],
   "source": [
    "game=['O']*2+['X']*2+['O']+['X']*2+['X','O']\n",
    "disp_game_state(game)"
   ]
  },
  {
   "cell_type": "code",
   "execution_count": 7,
   "metadata": {},
   "outputs": [
    {
     "data": {
      "text/plain": [
       "2"
      ]
     },
     "execution_count": 7,
     "metadata": {},
     "output_type": "execute_result"
    }
   ],
   "source": [
    "win_check(game)"
   ]
  },
  {
   "cell_type": "markdown",
   "metadata": {},
   "source": [
    "Or with a game that has no winner and the board is not yet full:"
   ]
  },
  {
   "cell_type": "code",
   "execution_count": 8,
   "metadata": {},
   "outputs": [
    {
     "name": "stdout",
     "output_type": "stream",
     "text": [
      "     |     |     \n",
      "  O  |     |     \n",
      "     |     |     \n",
      "-----------------\n",
      "     |     |     \n",
      "     |     |     \n",
      "     |     |     \n",
      "-----------------\n",
      "     |     |     \n",
      "     |     |     \n",
      "     |     |     \n"
     ]
    }
   ],
   "source": [
    "game=['O']+['']*8\n",
    "disp_game_state(game)"
   ]
  },
  {
   "cell_type": "code",
   "execution_count": 9,
   "metadata": {},
   "outputs": [
    {
     "data": {
      "text/plain": [
       "3"
      ]
     },
     "execution_count": 9,
     "metadata": {},
     "output_type": "execute_result"
    }
   ],
   "source": [
    "win_check(game)"
   ]
  },
  {
   "cell_type": "markdown",
   "metadata": {},
   "source": [
    "Putting what we have so far together, we can now define the play() function to execute a game. This will be useful when we implement the ability to replay games, which will then simply involve calling play() multiple times."
   ]
  },
  {
   "cell_type": "code",
   "execution_count": 10,
   "metadata": {},
   "outputs": [],
   "source": [
    "from IPython.display import clear_output\n",
    "\n",
    "def play():\n",
    "    \n",
    "    '''play() is the function that executes a game: it stops only at a draw, or a win for X, or a win for O.'''\n",
    "    \n",
    "    game=['']*9\n",
    "\n",
    "    disp_game_state(game)\n",
    "\n",
    "    while '' in game:\n",
    "        game=move('X',game)\n",
    "        clear_output()\n",
    "        disp_game_state(game)\n",
    "        state=win_check(game)\n",
    "        if state==1:\n",
    "            print('Congratulations! Player 1 (X) has won.')\n",
    "            break\n",
    "        elif state==0:\n",
    "            continue\n",
    "        game=move('O',game)\n",
    "        clear_output()\n",
    "        disp_game_state(game)\n",
    "        state=win_check(game)\n",
    "        if state==2:\n",
    "            print('Congratulations! Player 2 (O) has won.')\n",
    "            break\n",
    "    else:\n",
    "        print(\"It's a draw!\")"
   ]
  },
  {
   "cell_type": "code",
   "execution_count": 11,
   "metadata": {},
   "outputs": [],
   "source": [
    "def ask_replay():\n",
    "    \n",
    "    '''\n",
    "    ask_replay() asks if the players wish to play again.\n",
    "    '''\n",
    "    \n",
    "    # The following while loop always runs, unless the input is 'y' or 'n'.\n",
    "    while True:\n",
    "        x=input('Would you like to play again [y/n]? ')\n",
    "        if x.lower()=='y' or x.lower()=='n':\n",
    "            break\n",
    "        else:\n",
    "            print('Please enter a valid answer.')\n",
    "            \n",
    "    return x.lower()"
   ]
  },
  {
   "cell_type": "markdown",
   "metadata": {},
   "source": [
    "Finally, putting this all together to make the game run as many times as the players desire:"
   ]
  },
  {
   "cell_type": "code",
   "execution_count": 12,
   "metadata": {
    "scrolled": true
   },
   "outputs": [
    {
     "name": "stdout",
     "output_type": "stream",
     "text": [
      "     |     |     \n",
      "  X  |  O  |  X  \n",
      "     |     |     \n",
      "-----------------\n",
      "     |     |     \n",
      "  O  |  X  |     \n",
      "     |     |     \n",
      "-----------------\n",
      "     |     |     \n",
      "  X  |     |  O  \n",
      "     |     |     \n",
      "Congratulations! Player 1 (X) has won.\n",
      "Would you like to play again [y/n]? n\n"
     ]
    }
   ],
   "source": [
    "while True:\n",
    "    play()\n",
    "    x=ask_replay()\n",
    "    if x=='n':\n",
    "        break"
   ]
  }
 ],
 "metadata": {
  "kernelspec": {
   "display_name": "Python 3",
   "language": "python",
   "name": "python3"
  },
  "language_info": {
   "codemirror_mode": {
    "name": "ipython",
    "version": 3
   },
   "file_extension": ".py",
   "mimetype": "text/x-python",
   "name": "python",
   "nbconvert_exporter": "python",
   "pygments_lexer": "ipython3",
   "version": "3.6.3"
  }
 },
 "nbformat": 4,
 "nbformat_minor": 2
}
